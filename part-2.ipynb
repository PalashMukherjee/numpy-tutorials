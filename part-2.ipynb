{
 "cells": [
  {
   "cell_type": "markdown",
   "metadata": {},
   "source": [
    "## numpy practice problem 2"
   ]
  },
  {
   "cell_type": "code",
   "execution_count": 4,
   "metadata": {},
   "outputs": [],
   "source": [
    "import numpy as np"
   ]
  },
  {
   "cell_type": "markdown",
   "metadata": {},
   "source": [
    "##### create an array and find the sum of it"
   ]
  },
  {
   "cell_type": "code",
   "execution_count": 8,
   "metadata": {},
   "outputs": [
    {
     "data": {
      "text/plain": [
       "378"
      ]
     },
     "execution_count": 8,
     "metadata": {},
     "output_type": "execute_result"
    }
   ],
   "source": [
    "np.random.seed(1)\n",
    "a = np.random.randint(1,100,(3,3))\n",
    "a.sum()"
   ]
  },
  {
   "cell_type": "markdown",
   "metadata": {},
   "source": [
    "##### find sin of given array"
   ]
  },
  {
   "cell_type": "code",
   "execution_count": 9,
   "metadata": {},
   "outputs": [
    {
     "data": {
      "text/plain": [
       "array([[ 0.29636858,  0.42016704, -0.67677196],\n",
       "       [-0.54402111,  0.56610764, -0.2794155 ],\n",
       "       [-0.99388865,  0.82682868, -0.96139749]])"
      ]
     },
     "execution_count": 9,
     "metadata": {},
     "output_type": "execute_result"
    }
   ],
   "source": [
    "np.sin(a)"
   ]
  },
  {
   "cell_type": "markdown",
   "metadata": {},
   "source": [
    "##### find the mean of matrix along the row and column"
   ]
  },
  {
   "cell_type": "code",
   "execution_count": 10,
   "metadata": {},
   "outputs": [
    {
     "name": "stdout",
     "output_type": "stream",
     "text": [
      "[42.66666667 51.33333333 32.        ]\n",
      "[41.33333333 30.66666667 54.        ]\n"
     ]
    }
   ],
   "source": [
    "# for columns\n",
    "print(np.mean(a,axis=0))\n",
    "# for rows \n",
    "print(np.mean(a,axis=1))"
   ]
  },
  {
   "cell_type": "markdown",
   "metadata": {},
   "source": [
    "##### find the standard deviation of the given array"
   ]
  },
  {
   "cell_type": "code",
   "execution_count": 16,
   "metadata": {
    "scrolled": true
   },
   "outputs": [
    {
     "data": {
      "text/plain": [
       "29.612309752683746"
      ]
     },
     "execution_count": 16,
     "metadata": {},
     "output_type": "execute_result"
    }
   ],
   "source": [
    "np.std(a)"
   ]
  },
  {
   "cell_type": "markdown",
   "metadata": {},
   "source": [
    "##### find the transpose of the matrix"
   ]
  },
  {
   "cell_type": "code",
   "execution_count": 17,
   "metadata": {},
   "outputs": [
    {
     "name": "stdout",
     "output_type": "stream",
     "text": [
      "[[38 13 73]\n",
      " [10 76  6]\n",
      " [80 65 17]]\n"
     ]
    },
    {
     "data": {
      "text/plain": [
       "array([[38, 10, 80],\n",
       "       [13, 76, 65],\n",
       "       [73,  6, 17]])"
      ]
     },
     "execution_count": 17,
     "metadata": {},
     "output_type": "execute_result"
    }
   ],
   "source": [
    "print(a)\n",
    "a.T"
   ]
  },
  {
   "cell_type": "markdown",
   "metadata": {},
   "source": [
    "##### Create an array of 3*3 and find index of max along both axis"
   ]
  },
  {
   "cell_type": "code",
   "execution_count": 22,
   "metadata": {},
   "outputs": [
    {
     "name": "stdout",
     "output_type": "stream",
     "text": [
      "[2 1 0]\n",
      "[2 1 0]\n"
     ]
    }
   ],
   "source": [
    "# for columns \n",
    "print(np.argmax(a,axis=0))\n",
    "# for rows\n",
    "print(np.argmax(a,axis=1))"
   ]
  },
  {
   "cell_type": "code",
   "execution_count": 5,
   "metadata": {},
   "outputs": [
    {
     "name": "stdout",
     "output_type": "stream",
     "text": [
      "[[9 9 7]\n",
      " [3 9 8]\n",
      " [3 2 6]]\n",
      "-----------\n",
      "[[5 5 6]\n",
      " [8 4 7]\n",
      " [5 4 8]]\n",
      "-----------\n",
      "[[14 14 13]\n",
      " [11 13 15]\n",
      " [ 8  6 14]]\n"
     ]
    }
   ],
   "source": [
    "np.random.seed(2)\n",
    "m_a=np.random.randint(1,10,(3,3))\n",
    "m_b=np.random.randint(1,10,(3,3))\n",
    "print(m_a)\n",
    "print('-----------')\n",
    "print(m_b)\n",
    "print('-----------')\n",
    "print(m_a+m_b)"
   ]
  },
  {
   "cell_type": "markdown",
   "metadata": {},
   "source": [
    "##### find the max element along axis=0 and axis=1"
   ]
  },
  {
   "cell_type": "code",
   "execution_count": 32,
   "metadata": {},
   "outputs": [
    {
     "name": "stdout",
     "output_type": "stream",
     "text": [
      "[9 9 8]\n",
      "[9 9 6]\n"
     ]
    }
   ],
   "source": [
    "# max in axis =0\n",
    "print(np.max(m_a,axis=0))\n",
    "print(np.max(m_a,axis=1))"
   ]
  },
  {
   "cell_type": "markdown",
   "metadata": {},
   "source": [
    "##### write a program to add two arrays of different shapes"
   ]
  },
  {
   "cell_type": "code",
   "execution_count": 1,
   "metadata": {},
   "outputs": [],
   "source": [
    "# 10,11"
   ]
  },
  {
   "cell_type": "markdown",
   "metadata": {},
   "source": [
    "##### calculate multiplication of transpose and matrix itself of a 3X3 matrix"
   ]
  },
  {
   "cell_type": "code",
   "execution_count": 7,
   "metadata": {},
   "outputs": [
    {
     "name": "stdout",
     "output_type": "stream",
     "text": [
      "[[ 99 114 105]\n",
      " [114 166 147]\n",
      " [105 147 149]]\n"
     ]
    }
   ],
   "source": [
    "print(np.dot(m_a.T,m_a))"
   ]
  },
  {
   "cell_type": "markdown",
   "metadata": {},
   "source": [
    "##### find the solution of the given equation"
   ]
  },
  {
   "cell_type": "code",
   "execution_count": 18,
   "metadata": {},
   "outputs": [
    {
     "name": "stdout",
     "output_type": "stream",
     "text": [
      "[-1.35714286  2.14285714]\n"
     ]
    }
   ],
   "source": [
    "A=np.array([[2,5],[4,3]])\n",
    "B=np.array([8,1])\n",
    "print(np.dot(np.linalg.inv(A),B))"
   ]
  },
  {
   "cell_type": "markdown",
   "metadata": {},
   "source": [
    "##### find the rank,trace,inverse,determinant of a given matrix"
   ]
  },
  {
   "cell_type": "code",
   "execution_count": 24,
   "metadata": {},
   "outputs": [
    {
     "name": "stdout",
     "output_type": "stream",
     "text": [
      "1\n",
      "6\n",
      "0.0\n"
     ]
    }
   ],
   "source": [
    "x=np.array([[1,1,1],[2,2,2],[3,3,3]])\n",
    "# trace is the sum of its diagonal elements\n",
    "# 1.\n",
    "print(np.linalg.matrix_rank(x))\n",
    "# 2.\n",
    "print(np.trace(x))\n",
    "# 3.\n",
    "# print(np.linalg.inv(x))\n",
    "# since the determinant is zero so no inverse is possible\n",
    "# 4.\n",
    "print(np.linalg.det(x))"
   ]
  },
  {
   "cell_type": "markdown",
   "metadata": {},
   "source": [
    "##### find the cube of matrix"
   ]
  },
  {
   "cell_type": "code",
   "execution_count": 26,
   "metadata": {},
   "outputs": [
    {
     "data": {
      "text/plain": [
       "array([[ 36,  36,  36],\n",
       "       [ 72,  72,  72],\n",
       "       [108, 108, 108]])"
      ]
     },
     "execution_count": 26,
     "metadata": {},
     "output_type": "execute_result"
    }
   ],
   "source": [
    "np.dot(np.dot(x,x),x)"
   ]
  }
 ],
 "metadata": {
  "kernelspec": {
   "display_name": "Python 3",
   "language": "python",
   "name": "python3"
  },
  "language_info": {
   "codemirror_mode": {
    "name": "ipython",
    "version": 3
   },
   "file_extension": ".py",
   "mimetype": "text/x-python",
   "name": "python",
   "nbconvert_exporter": "python",
   "pygments_lexer": "ipython3",
   "version": "3.7.6"
  }
 },
 "nbformat": 4,
 "nbformat_minor": 4
}
